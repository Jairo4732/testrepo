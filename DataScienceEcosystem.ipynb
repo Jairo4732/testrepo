{
 "cells": [
  {
   "cell_type": "markdown",
   "id": "9e8166ba-b42e-4ed2-908d-e53db002e9e3",
   "metadata": {},
   "source": [
    "# Data Science Tools and Ecosystem"
   ]
  },
  {
   "cell_type": "markdown",
   "id": "8237a64e-6cdc-4e3a-b2d3-15247d8dfe55",
   "metadata": {},
   "source": [
    "## Introduction:"
   ]
  },
  {
   "cell_type": "markdown",
   "id": "b0ec902c-9dab-4981-bf42-89592712e069",
   "metadata": {},
   "source": [
    "#### In this notebook, Data Science Tools and Ecosystem are summarized."
   ]
  },
  {
   "cell_type": "markdown",
   "id": "cc9b07d9-220e-46ba-9619-7259fa507d2f",
   "metadata": {},
   "source": [
    "## Objectives:"
   ]
  },
  {
   "cell_type": "markdown",
   "id": "c0d41b52-cf91-49cd-a53f-3a7abd4d37bd",
   "metadata": {},
   "source": [
    "- List popular languages for Data Science\n",
    "- List some Data Science Tools\n",
    "- Evaluate aritmethic expressions "
   ]
  },
  {
   "cell_type": "markdown",
   "id": "cd6229c1-1d22-4819-be44-ab4b4d7993f9",
   "metadata": {},
   "source": [
    "#### Some of the popular languages that Data Scientists use are:"
   ]
  },
  {
   "cell_type": "markdown",
   "id": "817967a3-3b40-450b-b5e3-e0b3f27c8638",
   "metadata": {},
   "source": [
    "1. Python\n",
    "2. R\n",
    "3. C++\n",
    "4. Java\n",
    "5. JavaScript\n",
    "6. Julia"
   ]
  },
  {
   "cell_type": "markdown",
   "id": "f5f024b7-729e-44d2-8577-87c1438db3cc",
   "metadata": {},
   "source": [
    "#### Data Science Tools"
   ]
  },
  {
   "cell_type": "markdown",
   "id": "1df7794b-80a9-4d34-a67e-5de7b65ce537",
   "metadata": {},
   "source": [
    "|Data Science Tools|\n",
    "|--------------------|\n",
    "| Jupyter |\n",
    "| Watson Studio |\n",
    "|R Studio |"
   ]
  },
  {
   "cell_type": "markdown",
   "id": "b4a0ab9c-166a-43dc-9a92-3554357c541e",
   "metadata": {},
   "source": [
    "### Below are a few examples of evaluating arithmetic expressions in Python"
   ]
  },
  {
   "attachments": {},
   "cell_type": "markdown",
   "id": "9803b7e3-709e-4f3c-a9f0-45f4a868e669",
   "metadata": {},
   "source": [
    "##### This is a simple arithmetic expression to multiply then add integers"
   ]
  },
  {
   "cell_type": "code",
   "execution_count": 3,
   "id": "35b66ae8-0566-41f3-849b-c98ca444a308",
   "metadata": {},
   "outputs": [
    {
     "data": {
      "text/plain": [
       "17"
      ]
     },
     "execution_count": 3,
     "metadata": {},
     "output_type": "execute_result"
    }
   ],
   "source": [
    "(3*4)+5"
   ]
  },
  {
   "cell_type": "markdown",
   "id": "b6a3b6ed-40ae-4363-a964-31cba3879668",
   "metadata": {},
   "source": [
    "##### This will convert 200 minutes to hours by diving by 60"
   ]
  },
  {
   "cell_type": "code",
   "execution_count": 4,
   "id": "00dfff03-40d1-45c8-8eff-daa91ad24693",
   "metadata": {},
   "outputs": [
    {
     "data": {
      "text/plain": [
       "33.333333333333336"
      ]
     },
     "execution_count": 4,
     "metadata": {},
     "output_type": "execute_result"
    }
   ],
   "source": [
    "200/6"
   ]
  },
  {
   "cell_type": "markdown",
   "id": "0fa0005e-dc9f-4a59-a340-78661cb612c7",
   "metadata": {},
   "source": [
    "##### As we can see, 200 minutes equals 33,3 hours."
   ]
  },
  {
   "cell_type": "markdown",
   "id": "01e09c6c-80d7-4a68-ade8-7f66436f3205",
   "metadata": {},
   "source": [
    "## Author\n",
    "Jairo Enrique Saavedra Martínez"
   ]
  },
  {
   "cell_type": "code",
   "execution_count": null,
   "id": "7037d291-eefe-4287-9fb5-8e5cf57a014b",
   "metadata": {},
   "outputs": [],
   "source": []
  }
 ],
 "metadata": {
  "kernelspec": {
   "display_name": "Python 3 (ipykernel)",
   "language": "python",
   "name": "python3"
  },
  "language_info": {
   "codemirror_mode": {
    "name": "ipython",
    "version": 3
   },
   "file_extension": ".py",
   "mimetype": "text/x-python",
   "name": "python",
   "nbconvert_exporter": "python",
   "pygments_lexer": "ipython3",
   "version": "3.12.9"
  }
 },
 "nbformat": 4,
 "nbformat_minor": 5
}
